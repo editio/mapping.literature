{
 "cells": [
  {
   "cell_type": "markdown",
   "metadata": {},
   "source": [
    "# Geolocate historical places and plot them using interactive maps "
   ]
  },
  {
   "cell_type": "markdown",
   "metadata": {},
   "source": [
    "## Install the packages from the repository (github)"
   ]
  },
  {
   "cell_type": "code",
   "execution_count": 1,
   "metadata": {},
   "outputs": [
    {
     "name": "stderr",
     "output_type": "stream",
     "text": [
      "Installing package into ‘/srv/rlibs’\n",
      "(as ‘lib’ is unspecified)\n"
     ]
    }
   ],
   "source": [
    "install.packages(\"devtools\") # Unless you don't have it already installed.\n",
    "library(devtools) # function to install from github"
   ]
  },
  {
   "cell_type": "code",
   "execution_count": 2,
   "metadata": {},
   "outputs": [
    {
     "name": "stderr",
     "output_type": "stream",
     "text": [
      "Skipping install of 'georeference' from a github remote, the SHA1 (e3f90f4a) has not changed since last install.\n",
      "  Use `force = TRUE` to force installation\n",
      "Downloading GitHub repo rstudio/leaflet@master\n",
      "from URL https://api.github.com/repos/rstudio/leaflet/zipball/master\n",
      "Installing leaflet\n",
      "'/usr/lib/R/bin/R' --no-site-file --no-environ --no-save --no-restore --quiet  \\\n",
      "  CMD INSTALL '/tmp/Rtmpcuhm1A/devtools9be349b5592/rstudio-leaflet-e780e4b'  \\\n",
      "  --library='/srv/rlibs' --install-tests \n",
      "\n"
     ]
    }
   ],
   "source": [
    "devtools::install_github(\"editio/georeference\")  # Install package from editio/georeference\n",
    "devtools::install_github(\"rstudio/leaflet\")  # Install package from rstudio/leaflet"
   ]
  },
  {
   "cell_type": "markdown",
   "metadata": {},
   "source": [
    "## Load the libraries"
   ]
  },
  {
   "cell_type": "code",
   "execution_count": 3,
   "metadata": {
    "scrolled": true
   },
   "outputs": [
    {
     "name": "stderr",
     "output_type": "stream",
     "text": [
      "Loading required package: plyr\n",
      "Loading required package: rjson\n",
      "Loading required package: scales\n",
      "Loading required package: dplyr\n",
      "\n",
      "Attaching package: ‘dplyr’\n",
      "\n",
      "The following objects are masked from ‘package:plyr’:\n",
      "\n",
      "    arrange, count, desc, failwith, id, mutate, rename, summarise,\n",
      "    summarize\n",
      "\n",
      "The following objects are masked from ‘package:stats’:\n",
      "\n",
      "    filter, lag\n",
      "\n",
      "The following objects are masked from ‘package:base’:\n",
      "\n",
      "    intersect, setdiff, setequal, union\n",
      "\n",
      "Loading required package: digest\n",
      "── Attaching packages ─────────────────────────────────────── tidyverse 1.2.1 ──\n",
      "✔ ggplot2 2.2.1     ✔ readr   1.1.1\n",
      "✔ tibble  1.4.2     ✔ purrr   0.2.4\n",
      "✔ tidyr   0.8.0     ✔ stringr 1.3.1\n",
      "✔ ggplot2 2.2.1     ✔ forcats 0.2.0\n",
      "── Conflicts ────────────────────────────────────────── tidyverse_conflicts() ──\n",
      "✖ dplyr::arrange()    masks plyr::arrange()\n",
      "✖ readr::col_factor() masks scales::col_factor()\n",
      "✖ purrr::compact()    masks plyr::compact()\n",
      "✖ dplyr::count()      masks plyr::count()\n",
      "✖ purrr::discard()    masks scales::discard()\n",
      "✖ dplyr::failwith()   masks plyr::failwith()\n",
      "✖ dplyr::filter()     masks stats::filter()\n",
      "✖ dplyr::id()         masks plyr::id()\n",
      "✖ dplyr::lag()        masks stats::lag()\n",
      "✖ dplyr::mutate()     masks plyr::mutate()\n",
      "✖ dplyr::rename()     masks plyr::rename()\n",
      "✖ dplyr::summarise()  masks plyr::summarise()\n",
      "✖ dplyr::summarize()  masks plyr::summarize()\n"
     ]
    }
   ],
   "source": [
    "library(georeference)\n",
    "library(leaflet)\n",
    "library(tidyverse)"
   ]
  },
  {
   "cell_type": "markdown",
   "metadata": {},
   "source": [
    "## Run the georef()"
   ]
  },
  {
   "cell_type": "code",
   "execution_count": 11,
   "metadata": {
    "scrolled": true
   },
   "outputs": [
    {
     "name": "stderr",
     "output_type": "stream",
     "text": [
      "Gazzetter Source: https://peripleo.pelagios.org/peripleo/search?query=Valladolid&datasets=pleiades,ToposText,dare-20160328,iDAI,geonames\n",
      "Gazzetter Source: https://peripleo.pelagios.org/peripleo/search?query=Sutri&datasets=pleiades,ToposText,dare-20160328,iDAI,geonames\n"
     ]
    }
   ],
   "source": [
    "places = georef(c(\"Roma\", \"Complutum\", \"Byzantium\", \"Valladolid\", \"Sutri\"))"
   ]
  },
  {
   "cell_type": "markdown",
   "metadata": {},
   "source": [
    "### georef returns a data frame with lat, lot, name, url, searched name"
   ]
  },
  {
   "cell_type": "code",
   "execution_count": 12,
   "metadata": {
    "scrolled": true
   },
   "outputs": [
    {
     "name": "stdout",
     "output_type": "stream",
     "text": [
      "        lon      lat              name\n",
      "1 12.486137 41.89178              Roma\n",
      "2 -3.364135 40.48166 Alcalá de Henares\n",
      "3 28.970647 41.00979          İstanbul\n",
      "4 -4.728562 41.65213        Valladolid\n",
      "5 12.220462 42.24279             Sutri\n",
      "                                        url searched_name\n",
      "1    http://pleiades.stoa.org/places/423025          Roma\n",
      "2    http://pleiades.stoa.org/places/246352     Complutum\n",
      "3    http://pleiades.stoa.org/places/520985     Byzantium\n",
      "4 http://pleiades.stoa.org/places/789812439    Valladolid\n",
      "5    http://pleiades.stoa.org/places/413328         Sutri\n"
     ]
    }
   ],
   "source": [
    "print(places)"
   ]
  },
  {
   "cell_type": "code",
   "execution_count": 6,
   "metadata": {},
   "outputs": [],
   "source": [
    "## Libraries needed to visualize leaflet maps in Jupyter notebooks. You do not need them within R studio"
   ]
  },
  {
   "cell_type": "code",
   "execution_count": 7,
   "metadata": {},
   "outputs": [],
   "source": [
    "library(htmlwidgets)"
   ]
  },
  {
   "cell_type": "code",
   "execution_count": 8,
   "metadata": {},
   "outputs": [],
   "source": [
    "library(IRdisplay)"
   ]
  },
  {
   "cell_type": "code",
   "execution_count": 9,
   "metadata": {},
   "outputs": [],
   "source": [
    "## Run leaflet()"
   ]
  },
  {
   "cell_type": "code",
   "execution_count": 13,
   "metadata": {},
   "outputs": [
    {
     "data": {
      "text/html": [
       "<iframe src=\"map.html\" width=100% height=650></iframe>"
      ]
     },
     "metadata": {},
     "output_type": "display_data"
    }
   ],
   "source": [
    "map = leaflet() %>%\n",
    "  addTiles(urlTemplate = \"http://pelagios.org/tilesets/imperium/{z}/{x}/{y}.png\",\n",
    "           attribution = 'Barrington Roman Empire: (CC BY-SA) <a href=\"http://dare.ht.lu.se\">DARE</a> & <a href=\"http://commons.pelagios.org\">Pelagios</a> | Project by J.L.Losada',\n",
    "           group=\"Roman Empire\",\n",
    "           option=list(continuousWorld=TRUE, tileSize=\"256\")) %>%  # it adds the tiles of the Roman Empire\n",
    "  addMarkers(places$lon, places$lat) %>%\n",
    "  addProviderTiles (\"CartoDB.Positron\", group = \"Modern\") %>% \n",
    "  addPolylines(places$lon, places$lat,  color = \"blue\", weight = 3) %>%    \n",
    "  \n",
    "addLayersControl(\n",
    "  baseGroups = c(\"Roman Empire\", \"Modern\"),\n",
    "  options = layersControlOptions(collapsed = F)) # it adds the switch controls for added maps.\n",
    "\n",
    "\n",
    "saveWidget(map, 'map.html', selfcontained = FALSE) # It allows to visualize maps in Jupyter notebooks\n",
    "display_html('<iframe src=\"map.html\" width=100% height=650></iframe>') # It allows to visualize maps in Jupyter notebooks"
   ]
  },
  {
   "cell_type": "code",
   "execution_count": null,
   "metadata": {},
   "outputs": [],
   "source": []
  }
 ],
 "metadata": {
  "kernelspec": {
   "display_name": "R",
   "language": "R",
   "name": "ir"
  },
  "language_info": {
   "codemirror_mode": "r",
   "file_extension": ".r",
   "mimetype": "text/x-r-source",
   "name": "R",
   "pygments_lexer": "r",
   "version": "3.4.4"
  }
 },
 "nbformat": 4,
 "nbformat_minor": 2
}
