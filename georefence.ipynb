{
 "cells": [
  {
   "cell_type": "markdown",
   "metadata": {},
   "source": [
    "# Geolocate historical places and plot them using interactive maps"
   ]
  },
  {
   "cell_type": "markdown",
   "metadata": {},
   "source": [
    "Jupyter notebook to vizualize and to run the R scripts"
   ]
  },
  {
   "cell_type": "markdown",
   "metadata": {},
   "source": [
    "## Install packages"
   ]
  },
  {
   "cell_type": "code",
   "execution_count": null,
   "metadata": {},
   "outputs": [],
   "source": [
    "# Jupyter already installs the packages listed in \"install.R\""
   ]
  },
  {
   "cell_type": "markdown",
   "metadata": {},
   "source": [
    "## Load the libraries"
   ]
  },
  {
   "cell_type": "code",
   "execution_count": null,
   "metadata": {},
   "outputs": [],
   "source": [
    "library(georeference)\n",
    "library(leaflet)\n",
    "library(tidyverse) ## Here for pipe %>%\n",
    "library(htmlwidgets) ## Libraries needed to visualize leaflet maps in Jupyter notebooks. You do not need them within R studio\n",
    "library(IRdisplay) ## Libraries needed to visualize leaflet maps in Jupyter notebooks. You do not need them within R studio"
   ]
  },
  {
   "cell_type": "markdown",
   "metadata": {},
   "source": [
    "## Run the georef()"
   ]
  },
  {
   "cell_type": "code",
   "execution_count": null,
   "metadata": {
    "scrolled": true
   },
   "outputs": [],
   "source": [
    "places = georef(c(\"Roma\", \"Complutum\", \"Byzantium\", \"Valladolid\", \"Sutri\"))"
   ]
  },
  {
   "cell_type": "markdown",
   "metadata": {},
   "source": [
    "### georef() returns a data frame with lat, lot, name, url, searched name"
   ]
  },
  {
   "cell_type": "code",
   "execution_count": null,
   "metadata": {
    "scrolled": true
   },
   "outputs": [],
   "source": [
    "print(places)"
   ]
  },
  {
   "cell_type": "markdown",
   "metadata": {},
   "source": [
    "## Run leaflet()"
   ]
  },
  {
   "cell_type": "code",
   "execution_count": 5,
   "metadata": {},
   "outputs": [
    {
     "data": {
      "text/html": [
       "<iframe src=\"map.html\" width=100% height=650></iframe>"
      ]
     },
     "metadata": {},
     "output_type": "display_data"
    }
   ],
   "source": [
    "map = leaflet() %>%\n",
    "  addTiles(urlTemplate = \"http://pelagios.org/tilesets/imperium/{z}/{x}/{y}.png\",\n",
    "           attribution = 'Barrington Roman Empire: (CC BY-SA) <a href=\"http://dare.ht.lu.se\">DARE</a> & <a href=\"http://commons.pelagios.org\">Pelagios</a> | Project by J.L.Losada',\n",
    "           group=\"Roman Empire\",\n",
    "           option=list(continuousWorld=TRUE, tileSize=\"256\")) %>%  # it adds the tiles of the Roman Empire\n",
    "  addMarkers(places$lon, places$lat) %>%\n",
    "  addProviderTiles (\"CartoDB.Positron\", group = \"Modern\") %>% \n",
    "  addPolylines(places$lon, places$lat,  color = \"blue\", weight = 3) %>%    \n",
    "  \n",
    "addLayersControl(\n",
    "  baseGroups = c(\"Roman Empire\", \"Modern\"),\n",
    "  options = layersControlOptions(collapsed = F)) # it adds the switch controls for added maps.\n",
    "\n",
    "\n",
    "saveWidget(map, 'map.html', selfcontained = TRUE) # It allows to visualize maps in Jupyter notebooks\n",
    "display_html('<iframe src=\"map.html\" width=100% height=650></iframe>') # It allows to visualize maps in Jupyter notebooks"
   ]
  }
 ],
 "metadata": {
  "kernelspec": {
   "display_name": "R",
   "language": "R",
   "name": "ir"
  },
  "language_info": {
   "codemirror_mode": "r",
   "file_extension": ".r",
   "mimetype": "text/x-r-source",
   "name": "R",
   "pygments_lexer": "r",
   "version": "3.4.4"
  }
 },
 "nbformat": 4,
 "nbformat_minor": 2
}
