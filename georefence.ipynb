{
 "cells": [
  {
   "cell_type": "markdown",
   "metadata": {},
   "source": [
    "# Geolocate historical places and plot them using interactive maps "
   ]
  },
  {
   "cell_type": "markdown",
   "metadata": {},
   "source": [
    "## Install the packages from the repository (github)"
   ]
  },
  {
   "cell_type": "code",
   "execution_count": null,
   "metadata": {},
   "outputs": [],
   "source": [
    "devtools::install_github(\"editio/georeference\")  # Install package from editio/georeference"
   ]
  },
  {
   "cell_type": "markdown",
   "metadata": {},
   "source": [
    "## Load the libraries"
   ]
  },
  {
   "cell_type": "code",
   "execution_count": null,
   "metadata": {},
   "outputs": [],
   "source": [
    "library(georeference)\n",
    "library(leaflet)\n",
    "library(tidyverse)\n",
    "library(htmlwidgets) ## Libraries needed to visualize leaflet maps in Jupyter notebooks. You do not need them within R studio\n",
    "library(IRdisplay) ## Libraries needed to visualize leaflet maps in Jupyter notebooks. You do not need them within R studio"
   ]
  },
  {
   "cell_type": "markdown",
   "metadata": {},
   "source": [
    "## Run the georef()"
   ]
  },
  {
   "cell_type": "code",
   "execution_count": 4,
   "metadata": {
    "scrolled": true
   },
   "outputs": [
    {
     "name": "stderr",
     "output_type": "stream",
     "text": [
      "Gazzetter Source: https://peripleo.pelagios.org/peripleo/search?query=Roma&datasets=pleiades,ToposText,dare-20160328,iDAI,geonames\n",
      "Gazzetter Source: https://peripleo.pelagios.org/peripleo/search?query=Complutum&datasets=pleiades,ToposText,dare-20160328,iDAI,geonames\n",
      "Gazzetter Source: https://peripleo.pelagios.org/peripleo/search?query=Byzantium&datasets=pleiades,ToposText,dare-20160328,iDAI,geonames\n",
      "Gazzetter Source: https://peripleo.pelagios.org/peripleo/search?query=Valladolid&datasets=pleiades,ToposText,dare-20160328,iDAI,geonames\n",
      "Gazzetter Source: https://peripleo.pelagios.org/peripleo/search?query=Sutri&datasets=pleiades,ToposText,dare-20160328,iDAI,geonames\n"
     ]
    }
   ],
   "source": [
    "places = georef(c(\"Roma\", \"Complutum\", \"Byzantium\", \"Valladolid\", \"Sutri\"))"
   ]
  },
  {
   "cell_type": "markdown",
   "metadata": {},
   "source": [
    "### georef() returns a data frame with lat, lot, name, url, searched name"
   ]
  },
  {
   "cell_type": "code",
   "execution_count": 5,
   "metadata": {
    "scrolled": true
   },
   "outputs": [
    {
     "name": "stdout",
     "output_type": "stream",
     "text": [
      "        lon      lat              name\n",
      "1 12.486137 41.89178              Roma\n",
      "2 -3.364135 40.48166 Alcalá de Henares\n",
      "3 28.970647 41.00979          İstanbul\n",
      "4 -4.728562 41.65213        Valladolid\n",
      "5 12.220462 42.24279             Sutri\n",
      "                                        url searched_name\n",
      "1    http://pleiades.stoa.org/places/423025          Roma\n",
      "2    http://pleiades.stoa.org/places/246352     Complutum\n",
      "3    http://pleiades.stoa.org/places/520985     Byzantium\n",
      "4 http://pleiades.stoa.org/places/789812439    Valladolid\n",
      "5    http://pleiades.stoa.org/places/413328         Sutri\n"
     ]
    }
   ],
   "source": [
    "print(places)"
   ]
  },
  {
   "cell_type": "markdown",
   "metadata": {},
   "source": [
    "## Run leaflet()"
   ]
  },
  {
   "cell_type": "code",
   "execution_count": 6,
   "metadata": {},
   "outputs": [
    {
     "data": {
      "text/html": [
       "<iframe src=\"map.html\" width=100% height=650></iframe>"
      ]
     },
     "metadata": {},
     "output_type": "display_data"
    }
   ],
   "source": [
    "map = leaflet() %>%\n",
    "  addTiles(urlTemplate = \"http://pelagios.org/tilesets/imperium/{z}/{x}/{y}.png\",\n",
    "           attribution = 'Barrington Roman Empire: (CC BY-SA) <a href=\"http://dare.ht.lu.se\">DARE</a> & <a href=\"http://commons.pelagios.org\">Pelagios</a> | Project by J.L.Losada',\n",
    "           group=\"Roman Empire\",\n",
    "           option=list(continuousWorld=TRUE, tileSize=\"256\")) %>%  # it adds the tiles of the Roman Empire\n",
    "  addMarkers(places$lon, places$lat) %>%\n",
    "  addProviderTiles (\"CartoDB.Positron\", group = \"Modern\") %>% \n",
    "  addPolylines(places$lon, places$lat,  color = \"blue\", weight = 3) %>%    \n",
    "  \n",
    "addLayersControl(\n",
    "  baseGroups = c(\"Roman Empire\", \"Modern\"),\n",
    "  options = layersControlOptions(collapsed = F)) # it adds the switch controls for added maps.\n",
    "\n",
    "\n",
    "saveWidget(map, 'map.html', selfcontained = FALSE) # It allows to visualize maps in Jupyter notebooks\n",
    "display_html('<iframe src=\"map.html\" width=100% height=650></iframe>') # It allows to visualize maps in Jupyter notebooks"
   ]
  }
 ],
 "metadata": {
  "kernelspec": {
   "display_name": "R",
   "language": "R",
   "name": "ir"
  },
  "language_info": {
   "codemirror_mode": "r",
   "file_extension": ".r",
   "mimetype": "text/x-r-source",
   "name": "R",
   "pygments_lexer": "r",
   "version": "3.4.4"
  }
 },
 "nbformat": 4,
 "nbformat_minor": 2
}
